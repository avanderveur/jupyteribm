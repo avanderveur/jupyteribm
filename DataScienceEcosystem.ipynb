{
 "cells": [
  {
   "cell_type": "markdown",
   "id": "e5fde72e-dddf-4c57-8a69-8035f0245197",
   "metadata": {},
   "source": [
    "# Data Science Tools and Ecosystem\n"
   ]
  },
  {
   "cell_type": "markdown",
   "id": "fcf148ba-525b-4650-88be-79702cfa61bb",
   "metadata": {},
   "source": [
    "In this notebook, Data Science Tools and the Ecosystem are summarized.\n"
   ]
  },
  {
   "cell_type": "markdown",
   "id": "7e667624-534f-4383-93f4-9467db2feecd",
   "metadata": {},
   "source": [
    "Some of the popular languages that Data Scientists use are:\n",
    "\n",
    "1. Python\n",
    "2. R\n",
    "3. Julia\n"
   ]
  },
  {
   "cell_type": "markdown",
   "id": "66e5c39b-bb51-4b33-b6ec-ab875bc9cba2",
   "metadata": {},
   "source": [
    "Some of the commonly used libraries used by Data Scientists include:\n",
    "\n",
    "1. NumPy\n",
    "2. Pandas\n",
    "3. Matplotlib\n"
   ]
  },
  {
   "cell_type": "markdown",
   "id": "0eda9719-2a2a-405d-9817-eea0072b05f0",
   "metadata": {},
   "source": [
    "| Data Science Tools        |\n",
    "|---------------------------|\n",
    "| 1. Jupyter Notebook       |\n",
    "| 2. RStudio                |\n",
    "| 3. Visual Studio Code     |\n"
   ]
  },
  {
   "cell_type": "markdown",
   "id": "11e365b5-4c8b-4bf4-b547-affa55efc1ab",
   "metadata": {},
   "source": [
    "### Below are a few examples of evaluating arithmetic expressions in Python.\n"
   ]
  },
  {
   "cell_type": "code",
   "execution_count": 1,
   "id": "01411c00-3da1-4ac2-a943-565a172d2038",
   "metadata": {},
   "outputs": [
    {
     "data": {
      "text/plain": [
       "17"
      ]
     },
     "execution_count": 1,
     "metadata": {},
     "output_type": "execute_result"
    }
   ],
   "source": [
    "# This is a simple arithmetic expression to multiply then add integers.\n",
    "result = (3 * 4) + 5\n",
    "result\n"
   ]
  },
  {
   "cell_type": "code",
   "execution_count": 2,
   "id": "2b905e66-31fc-47f4-8f77-3811a96fc005",
   "metadata": {},
   "outputs": [
    {
     "data": {
      "text/plain": [
       "3.3333333333333335"
      ]
     },
     "execution_count": 2,
     "metadata": {},
     "output_type": "execute_result"
    }
   ],
   "source": [
    "# This will convert 200 minutes to hours by dividing by 60.\n",
    "minutes = 200\n",
    "hours = minutes / 60\n",
    "hours\n"
   ]
  },
  {
   "cell_type": "markdown",
   "id": "6f9709e4-db82-4b40-bc9e-9eca508b26fd",
   "metadata": {},
   "source": [
    "**Objectives:**\n",
    "\n",
    "- List popular languages for Data Science.\n",
    "- Introduce commonly used Data Science libraries.\n",
    "- Explain the concept of Jupyter Notebooks.\n",
    "- Provide examples of arithmetic expressions in Python.\n",
    "- Demonstrate the conversion of minutes to hours.\n"
   ]
  },
  {
   "cell_type": "markdown",
   "id": "31cad929-74b1-49cd-bec6-7e9862569821",
   "metadata": {},
   "source": [
    "## Author\n",
    "\n",
    "Aundria Vanderveur\n"
   ]
  },
  {
   "cell_type": "code",
   "execution_count": null,
   "id": "def262cf-934b-427f-aac7-e3fe70239c00",
   "metadata": {},
   "outputs": [],
   "source": []
  }
 ],
 "metadata": {
  "kernelspec": {
   "display_name": "Python 3 (ipykernel)",
   "language": "python",
   "name": "python3"
  },
  "language_info": {
   "codemirror_mode": {
    "name": "ipython",
    "version": 3
   },
   "file_extension": ".py",
   "mimetype": "text/x-python",
   "name": "python",
   "nbconvert_exporter": "python",
   "pygments_lexer": "ipython3",
   "version": "3.11.6"
  }
 },
 "nbformat": 4,
 "nbformat_minor": 5
}
